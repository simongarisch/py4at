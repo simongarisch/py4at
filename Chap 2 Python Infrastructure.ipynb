{
 "cells": [
  {
   "cell_type": "markdown",
   "id": "9734c02d",
   "metadata": {},
   "source": [
    "## Chap 2 Python Infrastructure\n",
    "\n",
    "Covers Python installation, Miniconda as a package manager, Docker files, some chat on running in the cloud.\n",
    "\n",
    "IMO it's better to go with official Python images on [Dockerhub](https://hub.docker.com/_/python) rather than building from scratch, but it's useful as an exercise. This topic is vast and there are many points to consider:\n",
    "*  Python image to use\n",
    "*  Project structure (see cookiecutter, for example)\n",
    "*  Managing dependencies\n",
    "*  Testing and deployment pipelines (CICD)\n",
    "*  Running in the cloud. Digital Ocean and AWS are discussed briefly.\n",
    "\n",
    "You start to get more into the role of DevOps engineer...\n",
    "\n",
    "It'd be worth going through the Dev setup on Digital Ocean, AWS, Azure."
   ]
  },
  {
   "cell_type": "markdown",
   "id": "4a1eda5a",
   "metadata": {},
   "source": [
    "***"
   ]
  }
 ],
 "metadata": {
  "kernelspec": {
   "display_name": "Python 3 (ipykernel)",
   "language": "python",
   "name": "python3"
  },
  "language_info": {
   "codemirror_mode": {
    "name": "ipython",
    "version": 3
   },
   "file_extension": ".py",
   "mimetype": "text/x-python",
   "name": "python",
   "nbconvert_exporter": "python",
   "pygments_lexer": "ipython3",
   "version": "3.9.7"
  }
 },
 "nbformat": 4,
 "nbformat_minor": 5
}
